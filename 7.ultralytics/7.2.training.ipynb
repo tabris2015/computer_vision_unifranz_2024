{
 "cells": [
  {
   "cell_type": "markdown",
   "metadata": {},
   "source": [
    "# Entrenamiento y fine tuning\n",
    "Ultralytics ofrece herramientas para entrenar de manera muy sencilla modelos personalizados de detección objetos. Se cuenta con un formato estándar de dataset para ser usado por YOLOv8. Este conjunto de entrenamiento puede ser obtenido en base a diversas fuentes:\n",
    "1. Datasets abiertos en Kaggle u otras fuentes libres.\n",
    "2. Datasets personalizados.\n",
    "\n",
    "En este notebook veremos una forma de entrenar un modelo de detección de objetos con un dataset personalizado.\n"
   ]
  },
  {
   "cell_type": "markdown",
   "metadata": {},
   "source": [
    "## Roboflow\n",
    "Roboflow es una plataforma de Computer Vision que cuenta con diversas utilidades para anotar conjuntos de datos, entrenar modelos y realizar predicciones en la nube para aplicaciones de Vision artificial. En este notebook usaremos Roboflow para anotar un pequeño conjunto de datos personalizados y exportar el dataset en el formato correcto para ser usado por Ultralytics."
   ]
  },
  {
   "cell_type": "code",
   "execution_count": null,
   "metadata": {},
   "outputs": [],
   "source": [
    "from ultralytics import YOLO\n",
    "\n",
    "model = YOLO(\"yolov8n.pt\")\n"
   ]
  },
  {
   "cell_type": "code",
   "execution_count": null,
   "metadata": {},
   "outputs": [],
   "source": [
    "results = model.train(data=\"dev_boards_dataset/data.yaml\", epochs=50, imgsz=640)"
   ]
  },
  {
   "cell_type": "markdown",
   "metadata": {},
   "source": [
    "## Evaluacion"
   ]
  },
  {
   "cell_type": "code",
   "execution_count": null,
   "metadata": {},
   "outputs": [],
   "source": [
    "resuls = model.val(data=\"dev_boards_dataset/data.yaml\")"
   ]
  },
  {
   "cell_type": "code",
   "execution_count": null,
   "metadata": {},
   "outputs": [],
   "source": [
    "results = model(\"test1.jpeg\", conf=0.4)"
   ]
  },
  {
   "cell_type": "code",
   "execution_count": null,
   "metadata": {},
   "outputs": [],
   "source": [
    "import cv2\n",
    "import matplotlib.pyplot as plt\n",
    "%matplotlib inline\n",
    "plt.rcParams['figure.figsize'] = [18, 8]    # incrementar tamaño de plots\n",
    "annotated = cv2.cvtColor(results[0].plot(), cv2.COLOR_BGR2RGB)\n",
    "plt.imshow(annotated)"
   ]
  },
  {
   "cell_type": "code",
   "execution_count": null,
   "metadata": {},
   "outputs": [],
   "source": []
  }
 ],
 "metadata": {
  "kernelspec": {
   "display_name": "cv_unifranz",
   "language": "python",
   "name": "python3"
  },
  "language_info": {
   "codemirror_mode": {
    "name": "ipython",
    "version": 3
   },
   "file_extension": ".py",
   "mimetype": "text/x-python",
   "name": "python",
   "nbconvert_exporter": "python",
   "pygments_lexer": "ipython3",
   "version": "3.11.9"
  }
 },
 "nbformat": 4,
 "nbformat_minor": 2
}
