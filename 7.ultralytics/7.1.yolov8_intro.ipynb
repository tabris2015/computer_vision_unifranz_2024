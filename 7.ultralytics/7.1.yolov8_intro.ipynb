{
 "cells": [
  {
   "cell_type": "markdown",
   "metadata": {},
   "source": [
    "# Ultralytics\n",
    "\n",
    "Ultralytics es una suite para el uso y entrenamiento de un conjunto de modelos principalmente basados en YOLOv5 y YOLOv8.\n",
    "Incluye distintas versiones pre-entrenadas de dichos modelos para distintas tareas. Los modelos de Ultralytics se caracterizan por ser extremadamente precisos y simples de usar. Este tipo de modelos se puede usar para aplicaciones que requieran una precisión muy alta y el rendimiento en latencia no sea una prioridad. Sin embargo, los modelos de ultralytics pueden aprovechar una GPU para incrementar la velocidad de inferencia.\n",
    "Para instalar Ultralytics, se puede hacer a través del comando:\n",
    "\n",
    "```\n",
    "pip install ultralytics\n",
    "```\n",
    "\n",
    "> Nota: Ultralytics tiene como dependencia Pytorch. Si desea aprovechar un acelerador de redes neuronales como las GPU de Nvidia, debe instalar una versión de Pytorch compatible con Nvidia CUDA primero, y luego ultralytics."
   ]
  },
  {
   "cell_type": "markdown",
   "metadata": {},
   "source": [
    "## YOLOv8\n",
    "YOLOv8 es una version mejorada de la arquitectura original YOLO (You Only Look Once) para la tarea de la detección de objetos, es open source y considerada SOTA, cuenta con una amplia comunidad y una librería con diversas utilidades para entrenamiento, fine tuning e inferencia. "
   ]
  },
  {
   "cell_type": "markdown",
   "metadata": {},
   "source": [
    "## Predicción\n",
    "Ultralytics cuenta con diversos modelos pre-entrenados listos para ser utilizados en inferencias. Estos modelos son distintas versiones de YOLOv8 orientados a distintas aplicaciones:\n",
    "\n",
    "- YOLOv8n: 3.2 M params\n",
    "- YOLOv8s: 11.2 M params\n",
    "- YOLOv8m: 25.9 M params\n",
    "- YOLOv8l: 43.7 M params\n",
    "- YOLOv8x: 62.2 M params\n",
    "\n",
    "Todos los modelos cuentan con un tamaño de entrada de 640x640 pixeles,"
   ]
  },
  {
   "cell_type": "code",
   "execution_count": null,
   "metadata": {},
   "outputs": [],
   "source": [
    "from ultralytics import YOLO\n",
    "\n",
    "model = YOLO(\"yolov8n.pt\")"
   ]
  },
  {
   "cell_type": "code",
   "execution_count": null,
   "metadata": {},
   "outputs": [],
   "source": [
    "results = model(\"../6.mediapipe/city.jpg\", imgsz=1080)"
   ]
  },
  {
   "cell_type": "code",
   "execution_count": null,
   "metadata": {},
   "outputs": [],
   "source": [
    "import cv2\n",
    "import matplotlib.pyplot as plt\n",
    "%matplotlib inline\n",
    "plt.rcParams['figure.figsize'] = [18, 8]    # incrementar tamaño de plots\n",
    "annotated = cv2.cvtColor(results[0].plot(), cv2.COLOR_BGR2RGB)\n",
    "plt.imshow(annotated)\n"
   ]
  },
  {
   "cell_type": "markdown",
   "metadata": {},
   "source": [
    "## Entradas para la predicción\n",
    "YOLOv8 cuenta con diversos tipos de entradas compatibles para la detección, entre ellos tenemos:\n",
    "- Archivos de imágenes\n",
    "- Arreglos de archivos de imágenes\n",
    "- Arreglos de numpy\n",
    "- Videos\n",
    "- Webcam ids"
   ]
  },
  {
   "cell_type": "code",
   "execution_count": null,
   "metadata": {},
   "outputs": [],
   "source": [
    "results = model(\"la_paz.mp4\")"
   ]
  }
 ],
 "metadata": {
  "kernelspec": {
   "display_name": "cv_unifranz",
   "language": "python",
   "name": "python3"
  },
  "language_info": {
   "codemirror_mode": {
    "name": "ipython",
    "version": 3
   },
   "file_extension": ".py",
   "mimetype": "text/x-python",
   "name": "python",
   "nbconvert_exporter": "python",
   "pygments_lexer": "ipython3",
   "version": "3.11.9"
  }
 },
 "nbformat": 4,
 "nbformat_minor": 2
}
