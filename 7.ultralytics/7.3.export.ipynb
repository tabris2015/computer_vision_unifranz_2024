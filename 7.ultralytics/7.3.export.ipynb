{
 "cells": [
  {
   "cell_type": "markdown",
   "metadata": {},
   "source": [
    "## Despliegue\n",
    "Ultralytics ofrece herramientas para exportar los modelos entrenados en diferentes formatos estandar optimizados para distintos tipos de tareas, estos formatos estandar tienen diversos objetivos y aplicaciones para el despliegue en producción:\n",
    "- ONNX: Formato estandar para modelos de redes neuronales ejecutados en distintas plataformas. \n",
    "- OpenVINO: Formato creado por Intel para optimización de la ejecución de redes neuronales en CPU.\n",
    "- TensorRT: Formato creado por Nvidia para optimización de la ejecución en GPUs de Nvidia."
   ]
  },
  {
   "cell_type": "code",
   "execution_count": null,
   "metadata": {},
   "outputs": [],
   "source": [
    "from ultralytics import YOLO\n",
    "# load model\n",
    "model = YOLO(\"runs/detect/train4/weights/best.pt\")"
   ]
  },
  {
   "cell_type": "markdown",
   "metadata": {},
   "source": []
  },
  {
   "cell_type": "code",
   "execution_count": null,
   "metadata": {},
   "outputs": [],
   "source": [
    "model.export(format=\"onnx\")"
   ]
  },
  {
   "cell_type": "code",
   "execution_count": null,
   "metadata": {},
   "outputs": [],
   "source": [
    "model.export(format=\"openvino\")"
   ]
  },
  {
   "cell_type": "code",
   "execution_count": null,
   "metadata": {},
   "outputs": [],
   "source": [
    "onnx_model = YOLO(\"runs/detect/train4/weights/best.onnx\")\n",
    "openvino_model = YOLO(\"runs/detect/train4/weights/best_openvino_model/\")"
   ]
  },
  {
   "cell_type": "code",
   "execution_count": null,
   "metadata": {},
   "outputs": [],
   "source": [
    "import time\n",
    "\n",
    "start_time = time.time()\n",
    "model(\"test1.jpeg\")\n",
    "print(f\"Pytorch: {(time.time() - start_time)*1000:.2f}[ms]\")\n",
    "\n",
    "start_time = time.time()\n",
    "onnx_model(\"test1.jpeg\")\n",
    "print(f\"ONNX: {(time.time() - start_time)*1000:.2f}[ms]\")\n",
    "\n",
    "start_time = time.time()\n",
    "openvino_model(\"test1.jpeg\")\n",
    "print(f\"OpenVINO: {(time.time() - start_time)*1000:.2f}[ms]\")"
   ]
  }
 ],
 "metadata": {
  "kernelspec": {
   "display_name": "cv_unifranz",
   "language": "python",
   "name": "python3"
  },
  "language_info": {
   "codemirror_mode": {
    "name": "ipython",
    "version": 3
   },
   "file_extension": ".py",
   "mimetype": "text/x-python",
   "name": "python",
   "nbconvert_exporter": "python",
   "pygments_lexer": "ipython3",
   "version": "3.11.9"
  }
 },
 "nbformat": 4,
 "nbformat_minor": 2
}
