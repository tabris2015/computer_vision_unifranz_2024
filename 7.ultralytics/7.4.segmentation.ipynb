{
 "cells": [
  {
   "cell_type": "markdown",
   "metadata": {},
   "source": [
    "# Segmentación con YOLOv8\n",
    "Ultralytics tambien nos provee de modelos entrenados sobre la tarea de segmentación de instancias. En esta tarea, es posible detectar objetos individuales en una imagen y segmentarlos del resto de la imagen. La salida del modelo de segmentación es un conjunto de máscaras o contornos que encierran cada instancia de un objeto, conjuntamente con la etiqueta y el nivel de probabilidad para cada objeto. La segmentación de instancias es util cuando se necesita saber no solamente la ubicación de un objeto en la imagen si no también la forma exacta del mismo."
   ]
  },
  {
   "cell_type": "code",
   "execution_count": null,
   "metadata": {},
   "outputs": [],
   "source": [
    "from ultralytics import YOLO\n",
    "\n",
    "model = YOLO(\"yolov8n-seg.pt\")"
   ]
  },
  {
   "cell_type": "code",
   "execution_count": null,
   "metadata": {},
   "outputs": [],
   "source": [
    "results = model(\"../6.mediapipe/city.jpg\")"
   ]
  },
  {
   "cell_type": "code",
   "execution_count": null,
   "metadata": {},
   "outputs": [],
   "source": [
    "import cv2\n",
    "import matplotlib.pyplot as plt\n",
    "%matplotlib inline\n",
    "plt.rcParams['figure.figsize'] = [18, 8]    # incrementar tamaño de plots\n",
    "annotated = cv2.cvtColor(results[0].plot(), cv2.COLOR_BGR2RGB)\n",
    "plt.imshow(annotated)"
   ]
  }
 ],
 "metadata": {
  "kernelspec": {
   "display_name": "cv_unifranz",
   "language": "python",
   "name": "python3"
  },
  "language_info": {
   "codemirror_mode": {
    "name": "ipython",
    "version": 3
   },
   "file_extension": ".py",
   "mimetype": "text/x-python",
   "name": "python",
   "nbconvert_exporter": "python",
   "pygments_lexer": "ipython3",
   "version": "3.11.9"
  }
 },
 "nbformat": 4,
 "nbformat_minor": 2
}
