{
  "cells": [
    {
      "cell_type": "markdown",
      "metadata": {
        "colab_type": "text",
        "id": "auOWfm3eZtOJ"
      },
      "source": [
        "# Introducción a Numpy\n",
        "Numpy es una librería de cálculo numérico y matricial para python.\n",
        "Contiene muchas funciones para la manipulación de matrices y arrays multidimensionales. Las funciones de numpy estan optimizadas para una ejecución más veloz en el procesador.\n",
        "\n",
        "Es recomendable redefinir las operacioens matriciales para aprovechar los algoritmos optimizados de numpy. Esta operación se conoce como **vectorizar** el código."
      ]
    },
    {
      "cell_type": "code",
      "execution_count": 2,
      "metadata": {
        "colab": {},
        "colab_type": "code",
        "id": "PHYVTaOdZtOM"
      },
      "outputs": [],
      "source": [
        "# importamos la librería como un alias\n",
        "import numpy as np"
      ]
    },
    {
      "cell_type": "markdown",
      "metadata": {
        "colab_type": "text",
        "id": "9kCgpUyOZtOU"
      },
      "source": [
        "## Arrays\n",
        "\n",
        "Los arrays de numpy se pueden inicializar con listas comunes de python.\n",
        "Las listas deben contener elementos del **mismo tipo**."
      ]
    },
    {
      "cell_type": "code",
      "execution_count": 3,
      "metadata": {
        "colab": {
          "base_uri": "https://localhost:8080/",
          "height": 87
        },
        "colab_type": "code",
        "id": "Wr0n3sUoZtOV",
        "outputId": "6b8427a7-ba89-461b-84c7-458a9f3358a2"
      },
      "outputs": [
        {
          "name": "stdout",
          "output_type": "stream",
          "text": [
            "<class 'numpy.ndarray'>\n",
            "(3,)\n",
            "1 2 3\n",
            "[5 2 3]\n"
          ]
        }
      ],
      "source": [
        "a = np.array([1, 2, 3])\n",
        "print(type(a))\n",
        "# para imprimir las dimensiones de la matriz\n",
        "print(a.shape)\n",
        "print(a[0], a[1], a[2])\n",
        "a[0] = 5\n",
        "print(a)"
      ]
    },
    {
      "cell_type": "code",
      "execution_count": 5,
      "metadata": {},
      "outputs": [
        {
          "name": "stdout",
          "output_type": "stream",
          "text": [
            "[[1, 2, 3], [4, 5, 6]]\n",
            "[1, 2, 3]\n",
            "5\n"
          ]
        }
      ],
      "source": [
        "mat = [[1, 2, 3], [4, 5, 6]]\n",
        "print(mat)\n",
        "print(mat[0])\n",
        "print(mat[1][1])"
      ]
    },
    {
      "cell_type": "code",
      "execution_count": 24,
      "metadata": {
        "colab": {},
        "colab_type": "code",
        "id": "Tta799dhZtOb"
      },
      "outputs": [
        {
          "name": "stdout",
          "output_type": "stream",
          "text": [
            "(2, 3)\n",
            "1\n",
            "[[1 2 3]\n",
            " [4 5 6]]\n"
          ]
        }
      ],
      "source": [
        "b = np.array([[1, 2, 3], [4, 5, 6]])\n",
        "print(b.shape)\n",
        "print(b[0, 0])\n",
        "print(b)"
      ]
    },
    {
      "cell_type": "code",
      "execution_count": 21,
      "metadata": {},
      "outputs": [
        {
          "name": "stdout",
          "output_type": "stream",
          "text": [
            "(2, 2, 3)\n",
            "[4 5 6]\n",
            "[[[ 1  2  3]\n",
            "  [ 4  5  6]]\n",
            "\n",
            " [[56 66 76]\n",
            "  [14 15 16]]]\n"
          ]
        }
      ],
      "source": [
        "c = np.array([[[1, 2, 3], [4, 5, 6]], [[56, 66, 76], [14, 15, 16]]])\n",
        "print(c.shape)\n",
        "print(c[0, 1])\n",
        "print(c)"
      ]
    },
    {
      "cell_type": "markdown",
      "metadata": {
        "colab_type": "text",
        "id": "H9nOXftkZtOe"
      },
      "source": [
        "## Creación de matrices especiales (contenedores)\n"
      ]
    },
    {
      "cell_type": "code",
      "execution_count": 12,
      "metadata": {
        "colab": {
          "base_uri": "https://localhost:8080/",
          "height": 52
        },
        "colab_type": "code",
        "id": "K5_4oxCXZtOg",
        "outputId": "86f3280e-9e57-4497-d7bd-452bbb7c7cfb"
      },
      "outputs": [
        {
          "name": "stdout",
          "output_type": "stream",
          "text": [
            "[[[0. 0. 0.]\n",
            "  [0. 0. 0.]\n",
            "  [0. 0. 0.]\n",
            "  [0. 0. 0.]]\n",
            "\n",
            " [[0. 0. 0.]\n",
            "  [0. 0. 0.]\n",
            "  [0. 0. 0.]\n",
            "  [0. 0. 0.]]]\n",
            "(2, 4, 3)\n"
          ]
        }
      ],
      "source": [
        "# matriz llena de ceros\n",
        "a = np.zeros((2, 4, 3))\n",
        "print(a)\n",
        "print(a.shape)"
      ]
    },
    {
      "cell_type": "code",
      "execution_count": 13,
      "metadata": {},
      "outputs": [
        {
          "name": "stdout",
          "output_type": "stream",
          "text": [
            "[[0, 0, 0, 0], [0, 0, 0, 0], [0, 0, 0, 0]]\n",
            "3 4\n"
          ]
        }
      ],
      "source": [
        "filas = 3\n",
        "cols = 4\n",
        "matriz = []\n",
        "for f in range(filas):\n",
        "    fila = [0 for c in range(cols)]\n",
        "    matriz.append(fila)\n",
        "\n",
        "print(matriz)\n",
        "print(len(matriz), len(matriz[0]))"
      ]
    },
    {
      "cell_type": "code",
      "execution_count": 14,
      "metadata": {
        "colab": {},
        "colab_type": "code",
        "id": "V67YBDyUZtOk",
        "outputId": "74df4fbe-0876-4c6e-b939-145a260f97af"
      },
      "outputs": [
        {
          "name": "stdout",
          "output_type": "stream",
          "text": [
            "[[1. 1. 1. 1.]\n",
            " [1. 1. 1. 1.]\n",
            " [1. 1. 1. 1.]\n",
            " [1. 1. 1. 1.]]\n",
            "(4, 4)\n"
          ]
        }
      ],
      "source": [
        "# matriz llena de unos\n",
        "b = np.ones((4, 4))\n",
        "print(b)\n",
        "print(b.shape)"
      ]
    },
    {
      "cell_type": "code",
      "execution_count": 16,
      "metadata": {
        "colab": {},
        "colab_type": "code",
        "id": "fBAinMGbZtOo",
        "outputId": "03dcb7e4-1ae0-4fd0-c9b7-718fcf00daeb"
      },
      "outputs": [
        {
          "name": "stdout",
          "output_type": "stream",
          "text": [
            "[[7 7]\n",
            " [7 7]]\n"
          ]
        }
      ],
      "source": [
        "# matriz llena de valores\n",
        "c = np.full((2, 2), 7)\n",
        "print(c)"
      ]
    },
    {
      "cell_type": "code",
      "execution_count": 17,
      "metadata": {},
      "outputs": [
        {
          "data": {
            "text/plain": [
              "array([[7., 7.],\n",
              "       [7., 7.]])"
            ]
          },
          "execution_count": 17,
          "metadata": {},
          "output_type": "execute_result"
        }
      ],
      "source": [
        "np.ones((2, 2)) * 7"
      ]
    },
    {
      "cell_type": "code",
      "execution_count": 19,
      "metadata": {
        "colab": {},
        "colab_type": "code",
        "id": "F1SUoO1WZtOq",
        "outputId": "7e46e5ff-785e-46ac-fac3-f8a2a682b0a6"
      },
      "outputs": [
        {
          "name": "stdout",
          "output_type": "stream",
          "text": [
            "[[1. 0. 0. 0.]\n",
            " [0. 1. 0. 0.]\n",
            " [0. 0. 1. 0.]\n",
            " [0. 0. 0. 1.]]\n",
            "(4, 4)\n"
          ]
        }
      ],
      "source": [
        "# matriz identidad\n",
        "d = np.eye(4)\n",
        "print(d)\n",
        "print(d.shape)"
      ]
    },
    {
      "cell_type": "code",
      "execution_count": 20,
      "metadata": {
        "colab": {},
        "colab_type": "code",
        "id": "rJpn0hTxZtOu",
        "outputId": "ec849a09-6a8a-404c-dfd8-9738694f664c"
      },
      "outputs": [
        {
          "name": "stdout",
          "output_type": "stream",
          "text": [
            "[[0.28442488 0.11039245 0.19887463]\n",
            " [0.30359507 0.43172399 0.32085686]\n",
            " [0.18521762 0.50299705 0.55363872]\n",
            " [0.57899259 0.56581088 0.8179157 ]\n",
            " [0.50175437 0.7241587  0.70923411]]\n",
            "(5, 3)\n"
          ]
        }
      ],
      "source": [
        "# matriz con valores aleatorios\n",
        "e = np.random.random((5, 3))\n",
        "print(e)\n",
        "print(e.shape)"
      ]
    },
    {
      "cell_type": "markdown",
      "metadata": {
        "colab_type": "text",
        "id": "o-3dalpNZtOx"
      },
      "source": [
        "## Array indexing\n",
        "Una de las funcionalidades más interesantes de numpy es la indexación de arrays multidimensionales."
      ]
    },
    {
      "cell_type": "code",
      "execution_count": 25,
      "metadata": {
        "colab": {},
        "colab_type": "code",
        "id": "iE9uG2FnZtOy",
        "outputId": "2e29358d-0f07-4de0-d03e-8e9fca84bcc4"
      },
      "outputs": [
        {
          "name": "stdout",
          "output_type": "stream",
          "text": [
            "[[ 1  2  3  4]\n",
            " [ 5  6  7  8]\n",
            " [ 9 10 11 12]]\n",
            "(3, 4)\n",
            "7\n"
          ]
        }
      ],
      "source": [
        "a = np.array([[1, 2, 3, 4], [5, 6, 7, 8], [9, 10, 11, 12]])\n",
        "print(a)\n",
        "print(a.shape)\n",
        "# acceso a un elemento \n",
        "print(a[1, 2])"
      ]
    },
    {
      "cell_type": "code",
      "execution_count": 31,
      "metadata": {
        "colab": {},
        "colab_type": "code",
        "id": "4JLpuX7VZtO0",
        "outputId": "13a0e674-4648-43e0-cba8-79cac71dd906"
      },
      "outputs": [
        {
          "name": "stdout",
          "output_type": "stream",
          "text": [
            "[[ 6  7]\n",
            " [10 11]]\n"
          ]
        }
      ],
      "source": [
        "# acceso mediante rangos\n",
        "b = a[-2:,1:3]\n",
        "print(b)"
      ]
    },
    {
      "cell_type": "code",
      "execution_count": null,
      "metadata": {
        "colab": {},
        "colab_type": "code",
        "id": "VIS4w4eQZtO3",
        "outputId": "02e14e49-4c05-41d0-f33d-c41b48fe477b"
      },
      "outputs": [],
      "source": [
        "b[0, 0] = 77\n",
        "print(b)"
      ]
    },
    {
      "cell_type": "code",
      "execution_count": 35,
      "metadata": {
        "colab": {},
        "colab_type": "code",
        "id": "1c2-Bw1ZZtO5",
        "outputId": "6583cc33-8a99-4888-88c1-0150d0f908c4"
      },
      "outputs": [
        {
          "name": "stdout",
          "output_type": "stream",
          "text": [
            "[[ 1  2  3  4]\n",
            " [ 5  6  7  8]\n",
            " [ 9 10 11 12]]\n",
            "[[ 3]\n",
            " [ 7]\n",
            " [11]]\n"
          ]
        }
      ],
      "source": [
        "# extraccion de filas y rangos de filas\n",
        "a = np.array([[1, 2, 3, 4], [5, 6, 7, 8], [9, 10, 11, 12]])\n",
        "print(a)\n",
        "col = a[:, 2:3]        # vector\n",
        "print(col)\n",
        "# row_r2 = a[1:2, :]      # rangos: matriz\n",
        "# print(row_r1, row_r1.shape)\n",
        "# print(row_r2, row_r2.shape)"
      ]
    },
    {
      "cell_type": "code",
      "execution_count": 36,
      "metadata": {
        "colab": {},
        "colab_type": "code",
        "id": "70tAiNbfZtPD",
        "outputId": "307d81cd-7a11-4164-e5a3-f5eeadce8edd"
      },
      "outputs": [
        {
          "name": "stdout",
          "output_type": "stream",
          "text": [
            "[ 3  7 11] (3,)\n",
            "[[ 3]\n",
            " [ 7]\n",
            " [11]] (3, 1)\n"
          ]
        }
      ],
      "source": [
        "# extracción de columnas y rangos de columnas\n",
        "col_r1 = a[:, 2]        # vector\n",
        "col_r2 = a[:, 2:3]      # matriz\n",
        "print(col_r1, col_r1.shape)\n",
        "print(col_r2, col_r2.shape)"
      ]
    },
    {
      "cell_type": "markdown",
      "metadata": {
        "colab_type": "text",
        "id": "KFi2ylSWZtPG"
      },
      "source": [
        "## Array math\n",
        "Numpy ofrece numerosas funciones para realizar operaciones matemáticas con arrays multidimensionales."
      ]
    },
    {
      "cell_type": "code",
      "execution_count": 41,
      "metadata": {
        "colab": {},
        "colab_type": "code",
        "id": "4X2cl3CyZtPH",
        "outputId": "54e64cc1-97d0-4070-8d88-ecaaa11b80b2"
      },
      "outputs": [
        {
          "name": "stdout",
          "output_type": "stream",
          "text": [
            "[[ 6.  8.]\n",
            " [10.  7.]]\n",
            "[[ 6.  8.]\n",
            " [10.  7.]]\n",
            "[[ True  True]\n",
            " [ True  True]]\n"
          ]
        }
      ],
      "source": [
        "# element wise addition\n",
        "x = np.array([[1, 2], [3, 4]], dtype=np.float64)\n",
        "y = np.array([[5, 6], [7, 3]], dtype=np.float64)\n",
        "print(x + y)\n",
        "print(np.add(x, y))\n",
        "print(x + y == np.add(x, y))"
      ]
    },
    {
      "cell_type": "code",
      "execution_count": 42,
      "metadata": {
        "colab": {},
        "colab_type": "code",
        "id": "szXfbuBaZtPJ",
        "outputId": "03d1f17b-b811-4b85-af4f-d096a89eb671"
      },
      "outputs": [
        {
          "name": "stdout",
          "output_type": "stream",
          "text": [
            "[[-4. -4.]\n",
            " [-4.  1.]]\n",
            "[[-4. -4.]\n",
            " [-4.  1.]]\n"
          ]
        }
      ],
      "source": [
        "# element wise substraction\n",
        "print(x - y)\n",
        "print(np.subtract(x, y))"
      ]
    },
    {
      "cell_type": "code",
      "execution_count": 43,
      "metadata": {
        "colab": {},
        "colab_type": "code",
        "id": "8U4f1U0jZtPL",
        "outputId": "b0c14b41-0477-4233-d64c-8162ffda3d42"
      },
      "outputs": [
        {
          "name": "stdout",
          "output_type": "stream",
          "text": [
            "[[ 5. 12.]\n",
            " [21. 12.]]\n",
            "[[ 5. 12.]\n",
            " [21. 12.]]\n"
          ]
        }
      ],
      "source": [
        "# element wise multiplication\n",
        "print(x * y)\n",
        "print(np.multiply(x, y))"
      ]
    },
    {
      "cell_type": "code",
      "execution_count": 44,
      "metadata": {
        "colab": {},
        "colab_type": "code",
        "id": "eYjZ4RGSZtPO",
        "outputId": "434093d4-5f36-421c-e99a-5f91e1987b02"
      },
      "outputs": [
        {
          "name": "stdout",
          "output_type": "stream",
          "text": [
            "[[0.2        0.33333333]\n",
            " [0.42857143 1.33333333]]\n",
            "[[0.2        0.33333333]\n",
            " [0.42857143 1.33333333]]\n"
          ]
        }
      ],
      "source": [
        "\n",
        "print(x / y)\n",
        "print(np.divide(x, y))"
      ]
    },
    {
      "cell_type": "code",
      "execution_count": 45,
      "metadata": {
        "colab": {},
        "colab_type": "code",
        "id": "suaX-gEIZtPQ",
        "outputId": "43bc7d64-b8fe-4d15-b8db-311169d5178f"
      },
      "outputs": [
        {
          "name": "stdout",
          "output_type": "stream",
          "text": [
            "[[1.         1.41421356]\n",
            " [1.73205081 2.        ]]\n"
          ]
        }
      ],
      "source": [
        "# funciones especiales\n",
        "print(np.sqrt(x))"
      ]
    },
    {
      "cell_type": "code",
      "execution_count": 46,
      "metadata": {},
      "outputs": [
        {
          "name": "stdout",
          "output_type": "stream",
          "text": [
            "[[ 2.71828183  7.3890561 ]\n",
            " [20.08553692 54.59815003]]\n"
          ]
        }
      ],
      "source": [
        "print(np.exp(x))"
      ]
    },
    {
      "cell_type": "code",
      "execution_count": 47,
      "metadata": {
        "colab": {},
        "colab_type": "code",
        "id": "d-hVg_ZFZtPT",
        "outputId": "335b2eab-7ec0-40e4-ab37-823e781fd1c4"
      },
      "outputs": [
        {
          "name": "stdout",
          "output_type": "stream",
          "text": [
            "bucle: 225\n",
            "225\n",
            "225\n"
          ]
        }
      ],
      "source": [
        "# producto escalar\n",
        "v = np.array([9, 10, 2])\n",
        "w = np.array([11, 12, 3])\n",
        "\n",
        "acum = 0\n",
        "for i in range(v.size):\n",
        "    prod = v[i] * w[i]\n",
        "    acum += prod\n",
        "\n",
        "print(f'bucle: {acum}')\n",
        "print(v.dot(w))\n",
        "print(np.dot(v, w))"
      ]
    },
    {
      "cell_type": "code",
      "execution_count": 52,
      "metadata": {
        "colab": {},
        "colab_type": "code",
        "id": "nQoro2PBZtPV",
        "outputId": "b672c66a-57ba-4d3b-8a08-f78b2771b82f"
      },
      "outputs": [
        {
          "name": "stdout",
          "output_type": "stream",
          "text": [
            "(2, 2) (2, 4)\n",
            "[[19 22 16 15]\n",
            " [43 50 36 35]]\n",
            "[[19 22 16 15]\n",
            " [43 50 36 35]]\n"
          ]
        }
      ],
      "source": [
        "x = np.array([[1, 2], [3, 4]])\n",
        "y = np.array([[5, 6, 4, 5], [7, 8, 6, 5]])\n",
        "# multiplicacion de matrices\n",
        "print(x.shape, y.shape)\n",
        "\n",
        "print(np.dot(x, y))"
      ]
    },
    {
      "cell_type": "code",
      "execution_count": null,
      "metadata": {
        "colab": {},
        "colab_type": "code",
        "id": "kCDWKGE9ZtPX",
        "outputId": "6b75248e-5ffa-4355-ee22-84cb72f07089"
      },
      "outputs": [],
      "source": [
        "print(x.dot(y))\n",
        "print(np.dot(x, y))"
      ]
    },
    {
      "cell_type": "code",
      "execution_count": 53,
      "metadata": {
        "colab": {},
        "colab_type": "code",
        "id": "z5DPUOjRZtPZ",
        "outputId": "549787b0-0a10-47e0-a4b7-6bf53d9ca799"
      },
      "outputs": [
        {
          "name": "stdout",
          "output_type": "stream",
          "text": [
            "[[1 2 5 6]\n",
            " [1 2 3 4]\n",
            " [4 3 2 1]]\n",
            "34\n",
            "[14 10 10]\n",
            "[ 6  7 10 11]\n",
            "[[14]\n",
            " [10]\n",
            " [10]]\n"
          ]
        }
      ],
      "source": [
        "# reducción de matrices\n",
        "x = np.array([[1, 2, 5, 6], [1, 2, 3, 4], [4, 3, 2, 1]])\n",
        "print(x)\n",
        "print(np.sum(x))\n",
        "# sobre columnas: axis = 1\n",
        "print(np.sum(x, axis=1))\n",
        "# sobre filas: axis = 0\n",
        "print(np.sum(x, axis=0))\n",
        "\n",
        "print(np.sum(x, axis=1, keepdims=True))"
      ]
    },
    {
      "cell_type": "code",
      "execution_count": 54,
      "metadata": {
        "colab": {},
        "colab_type": "code",
        "id": "cTLs03FoZtPe",
        "outputId": "c1381cd2-f211-4181-fc70-4bd9819373b3"
      },
      "outputs": [
        {
          "name": "stdout",
          "output_type": "stream",
          "text": [
            "[[1 2]\n",
            " [3 4]\n",
            " [5 6]] (3, 2)\n",
            "[[1 3 5]\n",
            " [2 4 6]] (2, 3)\n"
          ]
        }
      ],
      "source": [
        "# matriz traspuesta\n",
        "x = np.array([[1, 2], [3, 4], [5, 6]])\n",
        "print(x, x.shape)\n",
        "print(x.T, x.T.shape)"
      ]
    },
    {
      "cell_type": "code",
      "execution_count": 55,
      "metadata": {
        "colab": {},
        "colab_type": "code",
        "id": "wi5ELhYgZtPi",
        "outputId": "093e793f-1c2e-4bba-ae51-d6fa917c05b3"
      },
      "outputs": [
        {
          "name": "stdout",
          "output_type": "stream",
          "text": [
            "[1 2 3]\n",
            "[1 2 3]\n"
          ]
        }
      ],
      "source": [
        "v = np.array([1, 2, 3])\n",
        "print(v)\n",
        "print(v.T)"
      ]
    },
    {
      "cell_type": "markdown",
      "metadata": {
        "colab_type": "text",
        "id": "Um-QIoFkZtPm"
      },
      "source": [
        "## Matplotlib"
      ]
    },
    {
      "cell_type": "markdown",
      "metadata": {
        "colab_type": "text",
        "id": "dq91u7uGZtPm"
      },
      "source": [
        "### Plotting"
      ]
    },
    {
      "cell_type": "code",
      "execution_count": null,
      "metadata": {
        "colab": {
          "base_uri": "https://localhost:8080/",
          "height": 286
        },
        "colab_type": "code",
        "id": "LhNWTsnLZtPn",
        "outputId": "fb0f0733-989c-4ac7-f72a-8521f5200257"
      },
      "outputs": [],
      "source": [
        "import matplotlib.pyplot as plt\n",
        "%matplotlib inline\n",
        "\n",
        "x = np.arange(0, 2 * np.pi, 0.1)\n",
        "y = x**2\n",
        "\n",
        "plt.plot(x, y)\n"
      ]
    },
    {
      "cell_type": "code",
      "execution_count": null,
      "metadata": {
        "colab": {},
        "colab_type": "code",
        "id": "phGT-nXhZtPp",
        "outputId": "106383a2-4676-4177-b74b-e6e99c174d8e"
      },
      "outputs": [],
      "source": [
        "x = np.arange(0, 3 * np.pi, 0.1)\n",
        "y_sin = np.sin(x)\n",
        "y_cos = np.cos(x)\n",
        "\n",
        "plt.plot(x, y_sin)\n",
        "plt.plot(x, y_cos)\n",
        "plt.xlabel('time')\n",
        "plt.ylabel('voltage')\n",
        "plt.title('Sine and Cosine')\n",
        "plt.legend(['Sine', 'Cosine'])\n",
        "plt.show()"
      ]
    },
    {
      "cell_type": "markdown",
      "metadata": {},
      "source": []
    },
    {
      "cell_type": "markdown",
      "metadata": {
        "colab_type": "text",
        "id": "3aPORyL3ZtPr"
      },
      "source": [
        "### Subplots"
      ]
    },
    {
      "cell_type": "code",
      "execution_count": null,
      "metadata": {
        "colab": {},
        "colab_type": "code",
        "id": "ikhm58pKZtPr",
        "outputId": "0734e40d-a290-4544-cf63-315a067270c1"
      },
      "outputs": [],
      "source": [
        "x = np.arange(0, 3 * np.pi, 0.1)\n",
        "y_sin = np.sin(x)\n",
        "y_cos = np.cos(x)\n",
        "\n",
        "plt.subplot(121)\n",
        "plt.plot(x, y_sin)\n",
        "plt.title('Sine')\n",
        "\n",
        "plt.subplot(122)\n",
        "plt.plot(x, y_cos)\n",
        "plt.title('Cosine')\n",
        "plt.show()"
      ]
    },
    {
      "cell_type": "code",
      "execution_count": null,
      "metadata": {
        "colab": {},
        "colab_type": "code",
        "id": "z8j-8kW6ZtPt",
        "outputId": "304733e6-cee5-432b-fdcf-6412444d3395"
      },
      "outputs": [],
      "source": [
        "x = np.array([[1, 2, 3], [4, 5, 6], [7, 8, 9]])\n",
        "d = np.linalg.eigvalsh(x)\n",
        "print(d)"
      ]
    },
    {
      "cell_type": "markdown",
      "metadata": {
        "colab_type": "text",
        "id": "puNZN36tZtPx"
      },
      "source": [
        "## Notas finales\n",
        "Numpy reemplaza gran parte de la funcionalidad del lenguaje de programación de MATLAB para la manipulación de arrays multidimensionales y la vectorización de operaciones. Sin embargo, la ventaja de numpy es que cuenta con la gran popularidad y capacidad de python con el cual podemos crear desde aplicaciones web hasta sistemas de inteligencia artificial.\n",
        "Para las personas que tienen un background de MATLAB se puede consultar este [cheatsheet](http://mathesaurus.sourceforge.net/matlab-numpy.html)\n",
        "con equivalencias en funciones y operaciones.\n"
      ]
    },
    {
      "cell_type": "code",
      "execution_count": null,
      "metadata": {
        "colab": {},
        "colab_type": "code",
        "id": "K8_crSBMZtPx"
      },
      "outputs": [],
      "source": []
    }
  ],
  "metadata": {
    "colab": {
      "name": "numpy_basic.ipynb",
      "provenance": []
    },
    "interpreter": {
      "hash": "1ab428ee19fa23895928c57f899c1204b3d8696ddf62ae9fde4c203d22f384d0"
    },
    "kernelspec": {
      "display_name": "Python 3.8.10 64-bit ('unifranz': virtualenv)",
      "name": "python3"
    },
    "language_info": {
      "codemirror_mode": {
        "name": "ipython",
        "version": 3
      },
      "file_extension": ".py",
      "mimetype": "text/x-python",
      "name": "python",
      "nbconvert_exporter": "python",
      "pygments_lexer": "ipython3",
      "version": "3.11.9"
    }
  },
  "nbformat": 4,
  "nbformat_minor": 2
}
