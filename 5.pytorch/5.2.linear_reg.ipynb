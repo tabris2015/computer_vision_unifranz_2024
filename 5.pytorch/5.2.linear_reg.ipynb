{
 "cells": [
  {
   "cell_type": "code",
   "execution_count": 1,
   "metadata": {},
   "outputs": [
    {
     "name": "stdout",
     "output_type": "stream",
     "text": [
      "torch.Size([442, 11]) torch.Size([442])\n"
     ]
    }
   ],
   "source": [
    "import random\n",
    "import torch\n",
    "import numpy as np\n",
    "from sklearn.datasets import load_diabetes\n",
    "# X y y ya son arrays de numpy\n",
    "X, y = load_diabetes(return_X_y=True)\n",
    "\n",
    "m = X.shape[0]\n",
    "unos = np.ones((m, 1))\n",
    "X = np.append(unos, X, axis=1)\n",
    "\n",
    "X = torch.tensor(X, dtype=torch.float32)\n",
    "y = torch.tensor(y, dtype=torch.float32)\n",
    "print(X.shape, y.shape)"
   ]
  },
  {
   "cell_type": "code",
   "execution_count": 2,
   "metadata": {},
   "outputs": [
    {
     "name": "stdout",
     "output_type": "stream",
     "text": [
      "tensor([[0.5133],\n",
      "        [0.5138],\n",
      "        [0.6075],\n",
      "        [0.7303],\n",
      "        [0.3226],\n",
      "        [0.7161],\n",
      "        [0.2078],\n",
      "        [0.7002],\n",
      "        [0.3593],\n",
      "        [0.4325],\n",
      "        [0.6306]], requires_grad=True) torch.Size([11, 1])\n"
     ]
    }
   ],
   "source": [
    "n = 30\n",
    "# learning rate\n",
    "alpha = torch.tensor(0.001, dtype=torch.float32)\n",
    "# weights matrix\n",
    "theta = torch.rand((X.shape[1], 1), dtype=torch.float32, requires_grad=True)\n",
    "print(theta, theta.shape)\n",
    "cost_history = []"
   ]
  },
  {
   "cell_type": "code",
   "execution_count": 3,
   "metadata": {},
   "outputs": [
    {
     "name": "stdout",
     "output_type": "stream",
     "text": [
      "terminado\n",
      "costo inicial: 6391004.5\n",
      "costo final: 1310507.375\n"
     ]
    }
   ],
   "source": [
    "# entrenamiento usando torch autograd\n",
    "for i in range(n):\n",
    "    #forward pass\n",
    "    # regresion lineal\n",
    "    z = torch.matmul(X, theta)\n",
    "    # costo\n",
    "    # (1/(2*m))*np.sum(np.square(hyp(x, w, b) - y))\n",
    "    J = (1/(2 * m)) * torch.sum(torch.square(z - y))\n",
    "    cost_history.append(J.item())\n",
    "    # print(i, J)\n",
    "    # backward pass\n",
    "    # compute gradients\n",
    "    J.backward()\n",
    "    # print(f'dtheta: {dtheta}')\n",
    "    with torch.no_grad():\n",
    "        theta -= alpha * theta.grad \n",
    "    # reset gradients\n",
    "    theta.grad.zero_()\n",
    "\n",
    "print('terminado')\n",
    "print(f'costo inicial: {cost_history[0]}\\ncosto final: {cost_history[-1]}')"
   ]
  },
  {
   "cell_type": "code",
   "execution_count": null,
   "metadata": {},
   "outputs": [],
   "source": []
  },
  {
   "cell_type": "code",
   "execution_count": 4,
   "metadata": {},
   "outputs": [
    {
     "data": {
      "text/plain": [
       "[6391004.5,\n",
       " 2892391.25,\n",
       " 1803049.75,\n",
       " 1463867.75,\n",
       " 1358258.625,\n",
       " 1325375.75,\n",
       " 1315137.25,\n",
       " 1311949.375,\n",
       " 1310956.625,\n",
       " 1310647.5,\n",
       " 1310551.25,\n",
       " 1310521.25,\n",
       " 1310512.0,\n",
       " 1310509.0,\n",
       " 1310508.125,\n",
       " 1310507.75,\n",
       " 1310507.75,\n",
       " 1310507.625,\n",
       " 1310507.625,\n",
       " 1310507.625,\n",
       " 1310507.625,\n",
       " 1310507.5,\n",
       " 1310507.5,\n",
       " 1310507.625,\n",
       " 1310507.5,\n",
       " 1310507.5,\n",
       " 1310507.5,\n",
       " 1310507.375,\n",
       " 1310507.375,\n",
       " 1310507.375]"
      ]
     },
     "execution_count": 4,
     "metadata": {},
     "output_type": "execute_result"
    }
   ],
   "source": [
    "cost_history"
   ]
  },
  {
   "cell_type": "code",
   "execution_count": 7,
   "metadata": {},
   "outputs": [
    {
     "data": {
      "image/png": "[encoded data removed]",
      "text/plain": [
       "<Figure size 640x480 with 1 Axes>"
      ]
     },
     "metadata": {},
     "output_type": "display_data"
    }
   ],
   "source": [
    "import matplotlib.pyplot as plt\n",
    "it = list(range(n))\n",
    "plt.plot(it, cost_history)\n",
    "plt.show()"
   ]
  }
 ],
 "metadata": {
  "kernelspec": {
   "display_name": "cv_unifranz",
   "language": "python",
   "name": "python3"
  },
  "language_info": {
   "codemirror_mode": {
    "name": "ipython",
    "version": 3
   },
   "file_extension": ".py",
   "mimetype": "text/x-python",
   "name": "python",
   "nbconvert_exporter": "python",
   "pygments_lexer": "ipython3",
   "version": "3.11.9"
  }
 },
 "nbformat": 4,
 "nbformat_minor": 2
}
